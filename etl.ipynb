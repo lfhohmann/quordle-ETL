{
 "cells": [
  {
   "cell_type": "markdown",
   "metadata": {},
   "source": [
    "### **Performing ETL on [quordle](https://quordle.com) game** *(4 word variant of [Wordle](https://www.nytimes.com/games/wordle/index.html))*\n",
    "\n",
    "Before we start, let's manually look into the source code for the variables where each words `list` is stored.\n",
    "\n",
    "###############################################################################<br>\n",
    "1st `list`:\n",
    "\n",
    "```js script\n",
    "146 >>>        Y =\n",
    "147 >>>           \"aback abase abate abbey abbot ... young youth zebra zesty zonal\".split(\n",
    "148 >>>                \" \"\n",
    "169 >>>            ),\n",
    "```\n",
    "\n",
    "###############################################################################<br>\n",
    "2nd `list`: \n",
    "\n",
    "```js script\n",
    "151 >>>        ms =\n",
    "152 >>>           \"aahed aalii aargh aarti abaca ... zuzim zygal zygon zymes zymic\".split(\n",
    "153 >>>                \" \"\n",
    "154 >>>            ),\n",
    "```\n",
    "\n",
    "Analysing the entire code *(**quordle.js** file)*, we can find 2 lists of words. Apparently, there is a **valid guesses** `list` and a **valid_answers** `list`.\n",
    "\n",
    "We can see that the words are stored in variables called `Y` and `ms`, respectively. They are written in a single line of code.\n",
    "\n",
    "So, let's extract them!"
   ]
  },
  {
   "cell_type": "code",
   "execution_count": 3,
   "metadata": {},
   "outputs": [],
   "source": [
    "# Import modules\n",
    "import re\n",
    "\n",
    "# Define constants\n",
    "NUMBER_OF_PREVIEW_ELEMENTS = 10\n",
    "DIVIDER = '#' * 120\n",
    "\n",
    "# Init variables\n",
    "words_lists = [None] * 2\n",
    "\n",
    "\n",
    "def print_words_lists_preview() -> None:\n",
    "    \"\"\"Helper function to print a preview of each words lists and their respective length\"\"\"\n",
    "\n",
    "    # Iterate over each words list\n",
    "    for words_list in words_lists:\n",
    "\n",
    "        # Check if the words list is not empty\n",
    "        if words_list:\n",
    "            print(f\"first:\\t{words_list[:NUMBER_OF_PREVIEW_ELEMENTS]}\") # Print the first words\n",
    "            print(f\"last:\\t{words_list[-NUMBER_OF_PREVIEW_ELEMENTS:]}\") # Print the last words\n",
    "            print(f\"length:\\t{len(words_list)}\")                        # Print the length of the words list\n",
    "            print()  "
   ]
  },
  {
   "cell_type": "markdown",
   "metadata": {},
   "source": [
    "Let's load the JavaScript source code as a `list` of lines and preview it."
   ]
  },
  {
   "cell_type": "code",
   "execution_count": 4,
   "metadata": {},
   "outputs": [
    {
     "name": "stdout",
     "output_type": "stream",
     "text": [
      "########################################################################################################################\n",
      "FIRST:\n",
      "\tvar Qe = (e, s) => () => (s || e((s = { exports: {} }).exports, s), s.exports);\n",
      "\tvar Ce = (e, s, t) =>\n",
      "\t    new Promise((l, i) => {\n",
      "\t        var n = (a) => {\n",
      "\t                try {\n",
      "\t                    c(t.next(a));\n",
      "\t                } catch (r) {\n",
      "\t                    i(r);\n",
      "\t                }\n",
      "\t            },\n",
      "########################################################################################################################\n",
      "LAST:\n",
      "\t                            return h(Pa, {});\n",
      "\t                        },\n",
      "\t                    });\n",
      "\t                },\n",
      "\t            }),\n",
      "\t        document.getElementById(\"root\")\n",
      "\t    );\n",
      "\t});\n",
      "\texport default Fa();\n",
      "\t//# sourceMappingURL=index.3754bfc4.js.map\n",
      "########################################################################################################################\n",
      "LENGTH: 2838\n"
     ]
    }
   ],
   "source": [
    "def load_file(filepath: str) -> list:\n",
    "    \"\"\"Function to output a list of lines from a file\"\"\"\n",
    "\n",
    "    with open(filepath, \"r\", encoding=\"utf-8\") as f:\n",
    "        return f.read().splitlines()\n",
    "\n",
    "\n",
    "def print_code_preview(src_code: list) -> None:\n",
    "    \"\"\"Helper function to print a preview of the code\"\"\"\n",
    "\n",
    "    print(DIVIDER)\n",
    "    print(\"FIRST:\")\n",
    "\n",
    "    # Iterate over the first lines\n",
    "    for line in src_code[:NUMBER_OF_PREVIEW_ELEMENTS]:\n",
    "        print(f\"\\t{line}\")\n",
    "\n",
    "    print(DIVIDER)\n",
    "    print(\"LAST:\")\n",
    "\n",
    "    # Iterate over the last lines\n",
    "    for line in src_code[-NUMBER_OF_PREVIEW_ELEMENTS:]:\n",
    "        print(f\"\\t{line}\")\n",
    "    \n",
    "    print(DIVIDER)\n",
    "    print(f\"LENGTH: {len(src_code)}\") # Print the code's length\n",
    "\n",
    "\n",
    "# Load the code\n",
    "src_code = load_file(filepath=\"data\\\\src_code\\\\quordle.js\")\n",
    "\n",
    "# Preview the first and last lines of code\n",
    "print_code_preview(src_code=src_code)"
   ]
  },
  {
   "cell_type": "markdown",
   "metadata": {},
   "source": [
    "Let's extract both words `list`:\n",
    "\n",
    "+ We can detect their start based on their opening string: `<var_name> =`\n",
    "+ We can detect their end based on their closing string: `.split`"
   ]
  },
  {
   "cell_type": "code",
   "execution_count": 32,
   "metadata": {},
   "outputs": [
    {
     "name": "stdout",
     "output_type": "stream",
     "text": [
      "first:\t['aback ', 'abase ', 'abate ', 'abbey ', 'abbot ', 'abhor ', 'abide ', 'abled ', 'abode ', 'abort ']\n",
      "last:\t['wryly ', 'yacht ', 'yearn ', 'yeast ', 'yield ', 'young ', 'youth ', 'zebra ', 'zesty ', 'zonal\"']\n",
      "length:\t2315\n",
      "\n",
      "first:\t['aahed ', 'aalii ', 'aargh ', 'aarti ', 'abaca ', 'abaci ', 'abacs ', 'abaft ', 'abaka ', 'abamp ']\n",
      "last:\t['zulus ', 'zupan ', 'zupas ', 'zuppa ', 'zurfs ', 'zuzim ', 'zygal ', 'zygon ', 'zymes ', 'zymic\"']\n",
      "length:\t10657\n",
      "\n"
     ]
    }
   ],
   "source": [
    "def extract_words_from_list(src_code: list, opening_string: str, closing_string: str) -> list:\n",
    "    \"\"\"Function to extract words from a list in the source code\"\"\"\n",
    "\n",
    "    # Init variables\n",
    "    store_words = False # Flag to wheter store words or not\n",
    "\n",
    "    # Iterate over the source code's lines\n",
    "    for line in src_code:\n",
    "        \n",
    "        # If store_words flag is set, find words in the line\n",
    "        if store_words and closing_string in line:\n",
    "            break\n",
    "        \n",
    "        # Reset the store_words flag\n",
    "        store_words = False    \n",
    "        \n",
    "        # If line contains the variable name and the opening char, set the flag to store words\n",
    "        if opening_string in line:\n",
    "            store_words = True\n",
    "\n",
    "    # Perform RegEx to search to extract words\n",
    "    matches = re.findall(r'[a-z]{5}[ ,\"]', line)\n",
    "\n",
    "    # Return the output words list\n",
    "    return matches\n",
    "\n",
    "# Extract each words list\n",
    "words_lists[0] = extract_words_from_list(src_code=src_code, opening_string='Y =', closing_string='split')\n",
    "words_lists[1] = extract_words_from_list(src_code=src_code, opening_string='ms =', closing_string='split')\n",
    "\n",
    "# Print the words lists previews\n",
    "print_words_lists_preview()"
   ]
  },
  {
   "cell_type": "markdown",
   "metadata": {},
   "source": [
    "Before proceeding, we need to remove the trailing whitespaces and quotes."
   ]
  },
  {
   "cell_type": "code",
   "execution_count": 35,
   "metadata": {},
   "outputs": [
    {
     "name": "stdout",
     "output_type": "stream",
     "text": [
      "first:\t['aback', 'abase', 'abate', 'abbey', 'abbot', 'abhor', 'abide', 'abled', 'abode', 'abort']\n",
      "last:\t['wryly', 'yacht', 'yearn', 'yeast', 'yield', 'young', 'youth', 'zebra', 'zesty', 'zonal']\n",
      "length:\t2315\n",
      "\n",
      "first:\t['aahed', 'aalii', 'aargh', 'aarti', 'abaca', 'abaci', 'abacs', 'abaft', 'abaka', 'abamp']\n",
      "last:\t['zulus', 'zupan', 'zupas', 'zuppa', 'zurfs', 'zuzim', 'zygal', 'zygon', 'zymes', 'zymic']\n",
      "length:\t10657\n",
      "\n"
     ]
    }
   ],
   "source": [
    "def strip_word_list(word_list: list) -> list:\n",
    "    \"\"\"Function to strip the words list\"\"\"\n",
    "\n",
    "    # Init variables\n",
    "    stripped_words_list = [] # Output words list\n",
    "\n",
    "    # Iterate over the words list\n",
    "    for word in word_list:\n",
    "        \n",
    "        # Replace both quotes and spaces\n",
    "        stripped_word = word.replace('\"', '').replace(' ', '')\n",
    "\n",
    "        # Append the stripped word to the stripped words list\n",
    "        stripped_words_list.append(stripped_word)\n",
    "\n",
    "    # Return the stripped words list\n",
    "    return stripped_words_list\n",
    "\n",
    "# Strip each words list\n",
    "for i, _ in enumerate(words_lists):\n",
    "    words_lists[i] = strip_word_list(word_list=words_lists[i])\n",
    "\n",
    "# Print the words lists previews\n",
    "print_words_lists_preview()"
   ]
  },
  {
   "cell_type": "markdown",
   "metadata": {},
   "source": [
    "Let's make sure, there are no duplicated words inside each list. We are going to convert each `list` into a `set`, which will get rid of duplicates.\n",
    "\n",
    "Then, we will check if there are duplicates across both lists.\n",
    "\n",
    "And, finally, each `set` will be converted back to a `list`.\n",
    "\n",
    "*(Duplicated words would unbalance the probabilities of each word being randomly picked during the game execution)*"
   ]
  },
  {
   "cell_type": "code",
   "execution_count": 36,
   "metadata": {},
   "outputs": [
    {
     "name": "stdout",
     "output_type": "stream",
     "text": [
      "Duplicated words across lists: []\n"
     ]
    }
   ],
   "source": [
    "words_lists[0] = set(words_lists[0])\n",
    "words_lists[1] = set(words_lists[1])\n",
    "\n",
    "print(f\"Duplicated words across lists: {list(words_lists[0] & words_lists[1])}\")\n",
    "\n",
    "words_lists[0] = list(words_lists[0])\n",
    "words_lists[1] = list(words_lists[1])"
   ]
  },
  {
   "cell_type": "markdown",
   "metadata": {},
   "source": [
    "Great, no words are duplicated across lists.\n",
    "\n",
    "Now, taking into consideration that the **valid guesses** list will always be larger than the **valid answers** list, we can store them *(alphabetically sorted)* on `.txt` files.\n",
    "\n",
    "The words in the first list `words_lists[0]` are our **valid answers** and the ones in the second list `words_lists[1]` are our **valid guesses**."
   ]
  },
  {
   "cell_type": "code",
   "execution_count": 37,
   "metadata": {},
   "outputs": [],
   "source": [
    "def write_file(filepath: str, words: list) -> None:\n",
    "    \"\"\"Function to write a list of words to a file\"\"\"\n",
    "\n",
    "    with open(filepath, \"w\") as f:\n",
    "        for word in words:\n",
    "            f.write(f\"{word}\\n\")\n",
    "\n",
    "write_file(\"data\\\\words\\\\valid_answers.txt\", sorted(words_lists[0]))\n",
    "write_file(\"data\\\\words\\\\valid_guesses.txt\", sorted(words_lists[1]))"
   ]
  }
 ],
 "metadata": {
  "interpreter": {
   "hash": "2be5faf79681da6f2a61fdfdd5405d65d042280f7fba6178067603e3a2925119"
  },
  "kernelspec": {
   "display_name": "Python 3.10.1 64-bit",
   "language": "python",
   "name": "python3"
  },
  "language_info": {
   "codemirror_mode": {
    "name": "ipython",
    "version": 3
   },
   "file_extension": ".py",
   "mimetype": "text/x-python",
   "name": "python",
   "nbconvert_exporter": "python",
   "pygments_lexer": "ipython3",
   "version": "3.10.1"
  },
  "orig_nbformat": 4
 },
 "nbformat": 4,
 "nbformat_minor": 2
}
